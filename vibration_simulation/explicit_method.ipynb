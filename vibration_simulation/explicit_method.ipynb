{
 "cells": [
  {
   "cell_type": "code",
   "execution_count": 2,
   "metadata": {},
   "outputs": [],
   "source": [
    "# importとconstの設定\n",
    "import numpy as np\n",
    "import numpy.linalg as LA\n",
    "import matplotlib.pyplot as plt #to draw graphs\n",
    "\n",
    "# const\n",
    "ele_size = 1/2*0.02*0.02\n",
    "poi = 0.2\n",
    "e = 1000000000*37\n",
    "th = 0.98\n",
    "row = 2400\n",
    "nmode = 10\n",
    "delta_t = 0.0000004\n",
    "pow_delta_t = delta_t*delta_t\n",
    "total_time = 0.001\n",
    "total_step = int(total_time/delta_t)\n",
    "hc = 0.02 #減衰定数\n",
    "load = 100 #外力最大値\n",
    "load_time = 0.00001\n",
    "load_step = int(load_time/delta_t)\n",
    "load_diff = load/load_step\n",
    "fixed_node_count = 50\n",
    "alpha = 0.58332"
   ]
  },
  {
   "cell_type": "code",
   "execution_count": 3,
   "metadata": {},
   "outputs": [
    {
     "name": "stdout",
     "output_type": "stream",
     "text": [
      "8.11101324798743\n"
     ]
    }
   ],
   "source": [
    "# 安定条件確認\n",
    "import math\n",
    "t_min = 2*0.02*math.sqrt(row/e)\n",
    "delta_t_max = t_min/3.14\n",
    "print(delta_t_max/delta_t)"
   ]
  },
  {
   "cell_type": "code",
   "execution_count": 5,
   "metadata": {},
   "outputs": [
    {
     "name": "stdout",
     "output_type": "stream",
     "text": [
      "2500\n"
     ]
    }
   ],
   "source": [
    "print(total_step)"
   ]
  },
  {
   "cell_type": "code",
   "execution_count": 6,
   "metadata": {},
   "outputs": [],
   "source": [
    "# ファイル読み込み:nodeとeleの設定\n",
    "node_path = \"./one_hole_1_1.1.node\"\n",
    "ele_path = \"./one_hole_1_1.1.ele\"\n",
    "# node_path = \"~/src/github.com/shirafuji/graduation_thesis/vibration_simulation/one_hole_1_1.1.node\"\n",
    "# ele_path = '~/src/github.com/shirafuji/graduation_thesis/vibration_simulation/one_hole_1_1.1.ele'\n",
    "with open(node_path) as f_node:\n",
    "    s_line = f_node.readline()\n",
    "    number_list = s_line.split()\n",
    "    nnode_str = number_list[0]\n",
    "    nnode = int(nnode_str)\n",
    "    position = np.zeros((nnode, 2), dtype=np.float)\n",
    "    for i in range(nnode):\n",
    "        s_line = f_node.readline()\n",
    "        number_list = s_line.split()\n",
    "        x_str = number_list[1]\n",
    "        y_str = number_list[2]\n",
    "        x = float(x_str)\n",
    "        y = float(y_str)\n",
    "        position[i][0] = x*0.02\n",
    "        position[i][1] = y*0.02\n",
    "with open(ele_path) as f_ele:\n",
    "    s_line = f_ele.readline()\n",
    "    number_list = s_line.split()\n",
    "    nele_str = number_list[0]\n",
    "    nele = int(nele_str)\n",
    "    eles = np.zeros((nele, 3), dtype=np.int64)\n",
    "    for h in range(nele):\n",
    "        s_line = f_ele.readline()\n",
    "        number_list = s_line.split()\n",
    "        i_str = number_list[1]\n",
    "        j_str = number_list[2]\n",
    "        k_str = number_list[3]\n",
    "        i = int(i_str)\n",
    "        j = int(j_str)\n",
    "        k = k_str\n",
    "        eles[h][0] = i\n",
    "        eles[h][1] = j\n",
    "        eles[h][2] = k"
   ]
  },
  {
   "cell_type": "code",
   "execution_count": 7,
   "metadata": {},
   "outputs": [],
   "source": [
    "# 全体剛性行列と全体質量行列・全体集中質量行列の宣言(固定したものを抜いたものも)\n",
    "kt = np.zeros((2*nnode, 2*nnode))\n",
    "mt = np.zeros((2*nnode, 2*nnode))\n",
    "imt = np.zeros((2*nnode, 2*nnode))\n",
    "unfixed_kt = np.zeros((2*(nnode-fixed_node_count), 2*(nnode-fixed_node_count)))\n",
    "unfixed_mt = np.zeros((2*(nnode-fixed_node_count), 2*(nnode-fixed_node_count)))\n",
    "unfixed_imt = np.zeros((2*(nnode-fixed_node_count), 2*(nnode-fixed_node_count)))"
   ]
  },
  {
   "cell_type": "code",
   "execution_count": 8,
   "metadata": {},
   "outputs": [],
   "source": [
    "# 剛性行列と質量行列計算の定義\n",
    "def calc_ke(ele, position, kt):\n",
    "    i = ele[0]\n",
    "    j = ele[1]\n",
    "    k = ele[2]\n",
    "    xi = position[i-1][0]\n",
    "    yi = position[i-1][1]\n",
    "    xj = position[j-1][0]\n",
    "    yj = position[j-1][1]\n",
    "    xk = position[k-1][0]\n",
    "    yk = position[k-1][1]\n",
    "    # ひずみ-変位関係\n",
    "    b = np.zeros((3, 6))\n",
    "    b[0][0] = yj-yk\n",
    "    b[0][2] = yk-yi\n",
    "    b[0][4] = yi-yj\n",
    "    b[1][1] = xk-xj\n",
    "    b[1][3] = xi-xk\n",
    "    b[1][5] = xj-xi\n",
    "    b[2][0] = xk-xj\n",
    "    b[2][1] = yj-yk\n",
    "    b[2][2] = xi-xk\n",
    "    b[2][3] = yk-yi\n",
    "    b[2][4] = xj-xi\n",
    "    b[2][5] = yi-yj\n",
    "    b=b/2/ele_size\n",
    "    # 応力-ひずみ関係\n",
    "    d = np.zeros((3, 3))\n",
    "    d[0][0] = 1 - poi\n",
    "    d[0][1] = poi\n",
    "    d[1][0] = poi\n",
    "    d[1][1] = 1 - poi\n",
    "    d[2][2] = (1-2*poi)/2\n",
    "    d = d*e/(1+poi)/(1-2*poi)\n",
    "    ke = th*ele_size*np.dot(np.dot(b.T, d), b)\n",
    "    # 全体剛性行列への組み込み\n",
    "    kt[2*i-1-1][2*i-1-1] += ke[1-1][1-1]\n",
    "    kt[2*i-1-1][2*i-1] += ke[1-1][2-1]\n",
    "    kt[2*i-1][2*i-1-1] += ke[2-1][1-1]\n",
    "    kt[2*i-1][2*i-1] += ke[2-1][2-1]\n",
    "    kt[2*i-1-1][2*j-1-1] += ke[1-1][3-1]\n",
    "    kt[2*i-1-1][2*j-1] += ke[1-1][4-1]\n",
    "    kt[2*i-1][2*j-1-1] += ke[2-1][3-1]\n",
    "    kt[2*i-1][2*j-1] += ke[2-1][4-1]\n",
    "    kt[2*i-1-1][2*k-1-1] += ke[1-1][5-1]\n",
    "    kt[2*i-1-1][2*k-1] += ke[1-1][6-1]\n",
    "    kt[2*i-1][2*k-1-1] += ke[2-1][5-1]\n",
    "    kt[2*i-1][2*k-1] += ke[2-1][6-1]\n",
    "\n",
    "    kt[2*j-1-1][2*i-1-1] += ke[3-1][1-1]\n",
    "    kt[2*j-1-1][2*i-1] += ke[3-1][2-1]\n",
    "    kt[2*j-1][2*i-1-1] += ke[4-1][1-1]\n",
    "    kt[2*j-1][2*i-1] += ke[4-1][2-1]\n",
    "    kt[2*j-1-1][2*j-1-1] += ke[3-1][3-1]\n",
    "    kt[2*j-1-1][2*j-1] += ke[3-1][4-1]\n",
    "    kt[2*j-1][2*j-1-1] += ke[4-1][3-1]\n",
    "    kt[2*j-1][2*j-1] += ke[4-1][4-1]\n",
    "    kt[2*j-1-1][2*k-1-1] += ke[3-1][5-1]\n",
    "    kt[2*j-1-1][2*k-1] += ke[3-1][6-1]\n",
    "    kt[2*j-1][2*k-1-1] += ke[4-1][5-1]\n",
    "    kt[2*j-1][2*k-1] += ke[4-1][6-1]\n",
    "\n",
    "    kt[2*k-1-1][2*i-1-1] += ke[5-1][1-1]\n",
    "    kt[2*k-1-1][2*i-1] += ke[5-1][2-1]\n",
    "    kt[2*k-1][2*i-1-1] += ke[6-1][1-1]\n",
    "    kt[2*k-1][2*i-1] += ke[6-1][2-1]\n",
    "    kt[2*k-1-1][2*j-1-1] += ke[5-1][3-1]\n",
    "    kt[2*k-1-1][2*j-1] += ke[5-1][4-1]\n",
    "    kt[2*k-1][2*j-1-1] += ke[6-1][3-1]\n",
    "    kt[2*k-1][2*j-1] += ke[6-1][4-1]\n",
    "    kt[2*k-1-1][2*k-1-1] += ke[5-1][5-1]\n",
    "    kt[2*k-1-1][2*k-1] += ke[5-1][6-1]\n",
    "    kt[2*k-1][2*k-1-1] += ke[6-1][5-1]\n",
    "    kt[2*k-1][2*k-1] += ke[6-1][6-1]\n",
    "\n",
    "    return kt\n",
    "\n",
    "def calc_me(ele, mt):\n",
    "    i = ele[0]\n",
    "    j = ele[1]\n",
    "    k = ele[2]\n",
    "    me = np.zeros((6, 6))\n",
    "    me[0][0] = 1/6\n",
    "    me[0][2] = 1/12\n",
    "    me[0][4] = 1/12\n",
    "    me[1][1] = 1/6\n",
    "    me[1][3] = 1/12\n",
    "    me[1][5] = 1/12\n",
    "    me[2][0] = 1/12\n",
    "    me[2][2] = 1/6\n",
    "    me[2][4] = 1/12\n",
    "    me[3][1] = 1/12\n",
    "    me[3][3] = 1/6\n",
    "    me[3][5] = 1/12\n",
    "    me[4][0] = 1/12\n",
    "    me[4][2] = 1/12\n",
    "    me[4][4] = 1/6\n",
    "    me[5][1] = 1/12\n",
    "    me[5][3] = 1/12\n",
    "    me[5][5] = 1/6\n",
    "    me = ele_size*th*row*me\n",
    "    # 全体質量行列への組み込み\n",
    "    mt[2*i-1-1][2*i-1-1] += me[1-1][1-1]\n",
    "    mt[2*i-1-1][2*i-1] += me[1-1][2-1]\n",
    "    mt[2*i-1][2*i-1-1] += me[2-1][1-1]\n",
    "    mt[2*i-1][2*i-1] += me[2-1][2-1]\n",
    "    mt[2*i-1-1][2*j-1-1] += me[1-1][3-1]\n",
    "    mt[2*i-1-1][2*j-1] += me[1-1][4-1]\n",
    "    mt[2*i-1][2*j-1-1] += me[2-1][3-1]\n",
    "    mt[2*i-1][2*j-1] += me[2-1][4-1]\n",
    "    mt[2*i-1-1][2*k-1-1] += me[1-1][5-1]\n",
    "    mt[2*i-1-1][2*k-1] += me[1-1][6-1]\n",
    "    mt[2*i-1][2*k-1-1] += me[2-1][5-1]\n",
    "    mt[2*i-1][2*k-1] += me[2-1][6-1]\n",
    "\n",
    "    mt[2*j-1-1][2*i-1-1] += me[3-1][1-1]\n",
    "    mt[2*j-1-1][2*i-1] += me[3-1][2-1]\n",
    "    mt[2*j-1][2*i-1-1] += me[4-1][1-1]\n",
    "    mt[2*j-1][2*i-1] += me[4-1][2-1]\n",
    "    mt[2*j-1-1][2*j-1-1] += me[3-1][3-1]\n",
    "    mt[2*j-1-1][2*j-1] += me[3-1][4-1]\n",
    "    mt[2*j-1][2*j-1-1] += me[4-1][3-1]\n",
    "    mt[2*j-1][2*j-1] += me[4-1][4-1]\n",
    "    mt[2*j-1-1][2*k-1-1] += me[3-1][5-1]\n",
    "    mt[2*j-1-1][2*k-1] += me[3-1][6-1]\n",
    "    mt[2*j-1][2*k-1-1] += me[4-1][5-1]\n",
    "    mt[2*j-1][2*k-1] += me[4-1][6-1]\n",
    "\n",
    "    mt[2*k-1-1][2*i-1-1] += me[5-1][1-1]\n",
    "    mt[2*k-1-1][2*i-1] += me[5-1][2-1]\n",
    "    mt[2*k-1][2*i-1-1] += me[6-1][1-1]\n",
    "    mt[2*k-1][2*i-1] += me[6-1][2-1]\n",
    "    mt[2*k-1-1][2*j-1-1] += me[5-1][3-1]\n",
    "    mt[2*k-1-1][2*j-1] += me[5-1][4-1]\n",
    "    mt[2*k-1][2*j-1-1] += me[6-1][3-1]\n",
    "    mt[2*k-1][2*j-1] += me[6-1][4-1]\n",
    "    mt[2*k-1-1][2*k-1-1] += me[5-1][5-1]\n",
    "    mt[2*k-1-1][2*k-1] += me[5-1][6-1]\n",
    "    mt[2*k-1][2*k-1-1] += me[6-1][5-1]\n",
    "    mt[2*k-1][2*k-1] += me[6-1][6-1]\n",
    "\n",
    "    return mt\n",
    "\n",
    "def calc_ime(ele, imt):\n",
    "    i = ele[0]\n",
    "    j = ele[1]\n",
    "    k = ele[2]\n",
    "    ime = np.zeros((6, 6))\n",
    "    for h in range(6):\n",
    "        ime[h][h] = 1/3\n",
    "    ime = ele_size*th*row*ime\n",
    "    imt[2*i-1-1][2*i-1-1] += ime[1-1][1-1]\n",
    "    imt[2*i-1][2*i-1] += ime[2-1][2-1]\n",
    "    imt[2*j-1-1][2*j-1-1] += ime[3-1][3-1]\n",
    "    imt[2*j-1][2*j-1] += ime[4-1][4-1]\n",
    "    imt[2*k-1-1][2*k-1-1] += ime[5-1][5-1]\n",
    "    imt[2*k-1][2*k-1] += ime[6-1][6-1]\n",
    "    return imt"
   ]
  },
  {
   "cell_type": "code",
   "execution_count": 9,
   "metadata": {},
   "outputs": [],
   "source": [
    "# 合成行列と質量行列の組み込み繰り返し\n",
    "for h in range(nele):\n",
    "    ele = eles[h]\n",
    "    kt = calc_ke(ele, position, kt)\n",
    "    mt = calc_me(ele, mt)\n",
    "    imt = calc_ime(ele, imt)"
   ]
  },
  {
   "cell_type": "code",
   "execution_count": 10,
   "metadata": {},
   "outputs": [],
   "source": [
    "# 外力生成(線形の増減)(左辺中心4点に荷重がかかるとする)\n",
    "ft = np.zeros((total_step, 2*(nnode), 1))\n",
    "for i in range(load_step):\n",
    "    ft[i+1][2300][0] = ft[i][2300][0] + load_diff\n",
    "    ft[i+1][2400][0] = ft[i][2400][0] + load_diff\n",
    "    ft[i+1][2500][0] = ft[i][2500][0] + load_diff\n",
    "    ft[i+1][2600][0] = ft[i][2600][0] + load_diff\n",
    "for i in range(load_step):\n",
    "    ft[load_step+i+1][2300][0] = ft[load_step+i][2300][0] - load_diff\n",
    "    ft[load_step+i+1][2400][0] = ft[load_step+i][2400][0] - load_diff\n",
    "    ft[load_step+i+1][2500][0] = ft[load_step+i][2500][0] - load_diff\n",
    "    ft[load_step+i+1][2600][0] = ft[load_step+i][2600][0] - load_diff"
   ]
  },
  {
   "cell_type": "code",
   "execution_count": 11,
   "metadata": {},
   "outputs": [],
   "source": [
    "# 固定点を抜いてみたもの\n",
    "for h in range(2*(nnode-fixed_node_count)):\n",
    "    for hh in range(2*(nnode-fixed_node_count)):\n",
    "        unfixed_kt[h][hh] = kt[h+2*fixed_node_count][hh+2*fixed_node_count]\n",
    "        unfixed_mt[h][hh] = mt[h+2*fixed_node_count][hh+2*fixed_node_count]\n",
    "        unfixed_imt[h][hh] = imt[h+2*fixed_node_count][hh+2*fixed_node_count]"
   ]
  },
  {
   "cell_type": "code",
   "execution_count": 12,
   "metadata": {},
   "outputs": [],
   "source": [
    "# タイムステップ毎の変位設定\n",
    "u = np.zeros((total_step+1, 2*nnode, 1))"
   ]
  },
  {
   "cell_type": "code",
   "execution_count": 13,
   "metadata": {
    "scrolled": false
   },
   "outputs": [],
   "source": [
    "# 各タイムステップの計算\n",
    "ct = imt*alpha\n",
    "left_matrix = imt+delta_t*ct/2\n",
    "inv_left_matrix = np.linalg.inv(left_matrix)\n",
    "for h in range(total_step-1):\n",
    "    step = h+1\n",
    "    right_matrix = pow_delta_t*ft[step] - pow_delta_t*np.dot(kt, u[step]) + np.dot(imt, (2*u[step]-u[step-1])) + delta_t*np.dot(ct, u[step-1])/2\n",
    "    u[step+1] = np.dot(inv_left_matrix, right_matrix)"
   ]
  },
  {
   "cell_type": "code",
   "execution_count": 14,
   "metadata": {},
   "outputs": [],
   "source": [
    "output2400 = []\n",
    "for h in range(total_step+1):\n",
    "    output2400.append(u[h][2400][0])"
   ]
  },
  {
   "cell_type": "code",
   "execution_count": 15,
   "metadata": {},
   "outputs": [
    {
     "data": {
      "image/png": "[encoded data removed]",
      "text/plain": [
       "<Figure size 432x288 with 1 Axes>"
      ]
     },
     "metadata": {
      "needs_background": "light"
     },
     "output_type": "display_data"
    }
   ],
   "source": [
    "from matplotlib import pyplot as plt\n",
    "time_list = []\n",
    "for h in range(total_step+1):\n",
    "    time_list.append(h*delta_t)\n",
    "plt.plot(time_list, output2400)\n",
    "plt.show()"
   ]
  },
  {
   "cell_type": "code",
   "execution_count": null,
   "metadata": {},
   "outputs": [],
   "source": []
  }
 ],
 "metadata": {
  "kernelspec": {
   "display_name": "Python 3",
   "language": "python",
   "name": "python3"
  },
  "language_info": {
   "codemirror_mode": {
    "name": "ipython",
    "version": 3
   },
   "file_extension": ".py",
   "mimetype": "text/x-python",
   "name": "python",
   "nbconvert_exporter": "python",
   "pygments_lexer": "ipython3",
   "version": "3.7.7"
  }
 },
 "nbformat": 4,
 "nbformat_minor": 4
}
