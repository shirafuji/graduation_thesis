{
 "cells": [
  {
   "cell_type": "code",
   "execution_count": 216,
   "metadata": {},
   "outputs": [],
   "source": [
    "# subspace法のデバッグ用プログラム"
   ]
  },
  {
   "cell_type": "code",
   "execution_count": 217,
   "metadata": {},
   "outputs": [],
   "source": [
    "import numpy as np\n",
    "import numpy.linalg as LA"
   ]
  },
  {
   "cell_type": "code",
   "execution_count": 279,
   "metadata": {},
   "outputs": [],
   "source": [
    "# 初期値設定\n",
    "neig = 1\n",
    "k = np.matrix([\n",
    "    [2,-1,0],\n",
    "    [-1,2,-1],\n",
    "    [0,-1,1]\n",
    "])\n",
    "m = np.matrix([[2,0,0],[0,2,0],[0,0,1]])\n",
    "n = 3\n",
    "ramda = np.zeros((neig,1))\n",
    "x = np.random.rand(n,neig)\n",
    "y = np.zeros((n,neig))\n",
    "k_inv = np.linalg.inv(k)"
   ]
  },
  {
   "cell_type": "code",
   "execution_count": 280,
   "metadata": {},
   "outputs": [
    {
     "name": "stdout",
     "output_type": "stream",
     "text": [
      "[[0.]\n",
      " [0.]\n",
      " [0.]]\n",
      "[[0.42369564]\n",
      " [0.3826025 ]\n",
      " [0.06521568]]\n",
      "[[0.]]\n"
     ]
    }
   ],
   "source": [
    "print(y)\n",
    "print(x)\n",
    "print(ramda)"
   ]
  },
  {
   "cell_type": "code",
   "execution_count": 281,
   "metadata": {},
   "outputs": [
    {
     "name": "stdout",
     "output_type": "stream",
     "text": [
      "[[0.]\n",
      " [0.]\n",
      " [0.]]\n"
     ]
    }
   ],
   "source": [
    "print(y)"
   ]
  },
  {
   "cell_type": "code",
   "execution_count": 282,
   "metadata": {},
   "outputs": [
    {
     "name": "stdout",
     "output_type": "stream",
     "text": [
      "0\n",
      "[[0.]]\n",
      "[[0.14123066]]\n",
      "[[0.]]\n",
      "[[1.]]\n",
      "1.0\n",
      "1\n",
      "[[0.14123066]]\n",
      "[[0.13409787]]\n",
      "[[0.14123066]]\n",
      "[[-0.05319094]]\n",
      "0.05319094015412786\n",
      "2\n",
      "[[0.13409787]]\n",
      "[[0.1339691]]\n",
      "[[0.13409787]]\n",
      "[[-0.00096115]]\n",
      "0.0009611526554130051\n",
      "3\n",
      "[[0.1339691]]\n",
      "[[0.13396665]]\n",
      "[[0.1339691]]\n",
      "[[-1.83149687e-05]]\n",
      "1.831496866314077e-05\n"
     ]
    }
   ],
   "source": [
    "# 繰り返し処理:LA.eig利用\n",
    "for i in range(50):\n",
    "    print(i)\n",
    "    ramold = ramda.copy()\n",
    "    print(ramold)\n",
    "    y = np.dot(np.dot(k_inv,m),x)\n",
    "    kg = np.dot(np.dot(y.T, k), y)\n",
    "    mg = np.dot(np.dot(y.T, m), y)\n",
    "    mg = mg + np.eye(neig)*0.01\n",
    "    mg_inv = np.linalg.inv(mg)\n",
    "    w,v = LA.eig(np.dot(mg_inv, kg)) #w:固有値,v:固有ベクトル\n",
    "    for i in range(neig):\n",
    "        ramda[i][0] = w[i]\n",
    "    print(ramda)\n",
    "    print(ramold)\n",
    "    p = v.T\n",
    "    x = np.dot(y, p)\n",
    "    for i in range(neig):\n",
    "        max_val = 0\n",
    "        for j in range(n):\n",
    "            x_val = abs(x[j, i])\n",
    "            if x_val > max_val:\n",
    "                max_val = x_val\n",
    "        for j in range(n):\n",
    "            x[j, i] = x[j, i]/max_val\n",
    "    han = (ramda - ramold)/ramda\n",
    "    print(han)\n",
    "    max_mod = 0\n",
    "    for i in range(neig):\n",
    "        if abs(han[i][0]) > max_mod:\n",
    "            max_mod = abs(han[i][0])\n",
    "    print(max_mod)\n",
    "    if max_mod < 0.00002:\n",
    "        break"
   ]
  },
  {
   "cell_type": "code",
   "execution_count": 283,
   "metadata": {},
   "outputs": [
    {
     "name": "stdout",
     "output_type": "stream",
     "text": [
      "[[0.13396665]]\n",
      "[[0.50032831]\n",
      " [0.8662219 ]\n",
      " [1.        ]]\n"
     ]
    }
   ],
   "source": [
    "print(ramda)\n",
    "print(x)"
   ]
  },
  {
   "cell_type": "code",
   "execution_count": 284,
   "metadata": {},
   "outputs": [
    {
     "name": "stdout",
     "output_type": "stream",
     "text": [
      "[[0.50032831]\n",
      " [0.8662219 ]\n",
      " [1.        ]]\n"
     ]
    }
   ],
   "source": [
    "print(x)"
   ]
  },
  {
   "cell_type": "code",
   "execution_count": 285,
   "metadata": {},
   "outputs": [
    {
     "name": "stdout",
     "output_type": "stream",
     "text": [
      "7.464544377669681\n"
     ]
    }
   ],
   "source": [
    "print(1/ramda[0][0])"
   ]
  },
  {
   "cell_type": "code",
   "execution_count": 286,
   "metadata": {},
   "outputs": [
    {
     "name": "stdout",
     "output_type": "stream",
     "text": [
      "[[0.13396665]]\n"
     ]
    }
   ],
   "source": [
    "print(ramda)"
   ]
  },
  {
   "cell_type": "code",
   "execution_count": 87,
   "metadata": {},
   "outputs": [],
   "source": [
    "# 繰り返し処理を一回だけ:ヤコビ法利用\n",
    "ramold = ramda\n",
    "y = np.dot(np.dot(k_inv,m),x)\n",
    "kg = np.dot(np.dot(y.T, k), y)\n",
    "mg = np.dot(np.dot(y.T, m), y)\n",
    "mg_inv = np.linalg.inv(mg)\n",
    "# ここを変える必要あり w,v = LA.eig(np.dot(mg_inv, kg)) #w:固有値,v:固有ベクトル"
   ]
  }
 ],
 "metadata": {
  "kernelspec": {
   "display_name": "Python 3",
   "language": "python",
   "name": "python3"
  },
  "language_info": {
   "codemirror_mode": {
    "name": "ipython",
    "version": 3
   },
   "file_extension": ".py",
   "mimetype": "text/x-python",
   "name": "python",
   "nbconvert_exporter": "python",
   "pygments_lexer": "ipython3",
   "version": "3.7.7"
  }
 },
 "nbformat": 4,
 "nbformat_minor": 4
}
