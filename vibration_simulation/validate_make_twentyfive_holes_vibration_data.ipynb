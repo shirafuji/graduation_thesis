{
 "cells": [
  {
   "cell_type": "code",
   "execution_count": 40,
   "metadata": {},
   "outputs": [],
   "source": [
    "# import\n",
    "import numpy as np\n",
    "import numpy.linalg as LA\n",
    "import sys\n",
    "import time"
   ]
  },
  {
   "cell_type": "code",
   "execution_count": 41,
   "metadata": {},
   "outputs": [],
   "source": [
    "# 引数\n",
    "defect_x = 0 + 1\n",
    "defect_y = 0 + 1"
   ]
  },
  {
   "cell_type": "code",
   "execution_count": 42,
   "metadata": {},
   "outputs": [
    {
     "name": "stdout",
     "output_type": "stream",
     "text": [
      "start 1 1\n"
     ]
    }
   ],
   "source": [
    "print('start '+str(defect_x)+' '+str(defect_y))"
   ]
  },
  {
   "cell_type": "code",
   "execution_count": 43,
   "metadata": {},
   "outputs": [],
   "source": [
    "# 欠陥node特定(0始めでカウント)\n",
    "base_node = defect_x + defect_y*51\n",
    "defect_node = []\n",
    "defect_node.append(base_node+1+51)\n",
    "defect_node.append(base_node+1+51+1)\n",
    "defect_node.append(base_node+1+51+1+1)\n",
    "defect_node.append(base_node+1+51+1+1+1)\n",
    "defect_node.append(base_node+1+51+51)\n",
    "defect_node.append(base_node+1+51+51+1)\n",
    "defect_node.append(base_node+1+51+51+1+1)\n",
    "defect_node.append(base_node+1+51+51+1+1+1)\n",
    "defect_node.append(base_node+1+51+51+51)\n",
    "defect_node.append(base_node+1+51+51+51+1)\n",
    "defect_node.append(base_node+1+51+51+51+1+1)\n",
    "defect_node.append(base_node+1+51+51+51+1+1+1)\n",
    "defect_node.append(base_node+1+51+51+51+51)\n",
    "defect_node.append(base_node+1+51+51+51+51+1)\n",
    "defect_node.append(base_node+1+51+51+51+51+1+1)\n",
    "defect_node.append(base_node+1+51+51+51+51+1+1+1)\n",
    "\n",
    "ndefect = len(defect_node)"
   ]
  },
  {
   "cell_type": "code",
   "execution_count": 44,
   "metadata": {},
   "outputs": [],
   "source": [
    "# const\n",
    "ele_size = 1/2*0.02*0.02\n",
    "poi = 0.2\n",
    "e = 1000000000*37\n",
    "th = 1.0\n",
    "row = 2400\n",
    "delta_t = 0.00000008\n",
    "pow_delta_t = delta_t*delta_t\n",
    "total_time = 0.0005\n",
    "total_step = int(total_time/delta_t)\n",
    "load = 100 #外力最大値\n",
    "load_time = 0.00001\n",
    "load_step = int(load_time/delta_t)\n",
    "load_diff = load/load_step\n",
    "alpha = 0.58332"
   ]
  },
  {
   "cell_type": "code",
   "execution_count": 45,
   "metadata": {},
   "outputs": [
    {
     "name": "stdout",
     "output_type": "stream",
     "text": [
      "6250\n"
     ]
    }
   ],
   "source": [
    "print(total_step)"
   ]
  },
  {
   "cell_type": "code",
   "execution_count": 46,
   "metadata": {},
   "outputs": [
    {
     "name": "stdout",
     "output_type": "stream",
     "text": [
      "40.55506623993715\n"
     ]
    }
   ],
   "source": [
    "import math\n",
    "t_min = 2*0.02*math.sqrt(row/e)\n",
    "print((t_min/3.14)/delta_t)"
   ]
  },
  {
   "cell_type": "code",
   "execution_count": 47,
   "metadata": {},
   "outputs": [],
   "source": [
    "# ファイル読み込み:nodeとeleの設定\n",
    "node_file = \"twentyfive_holes_\"+str(defect_x)+\"_\"+str(defect_y)+\".1.node\"\n",
    "ele_file = \"twentyfive_holes_\"+str(defect_x)+\"_\"+str(defect_y)+\".1.ele\"\n",
    "node_path = \"../triangle_master/poly/\"+node_file\n",
    "ele_path = \"../triangle_master/poly/\"+ele_file\n",
    "with open(node_path) as f_node:\n",
    "    s_line = f_node.readline()\n",
    "    number_list = s_line.split()\n",
    "    nnode_str = number_list[0]\n",
    "    nnode = int(nnode_str)\n",
    "    position_with_defect = np.zeros((nnode, 2), dtype=np.float)\n",
    "    for i in range(nnode):\n",
    "        s_line = f_node.readline()\n",
    "        number_list = s_line.split()\n",
    "        x_str = number_list[1]\n",
    "        y_str = number_list[2]\n",
    "        x = float(x_str)\n",
    "        y = float(y_str)\n",
    "        position_with_defect[i][0] = x*0.02\n",
    "        position_with_defect[i][1] = y*0.02\n",
    "with open(ele_path) as f_ele:\n",
    "    s_line = f_ele.readline()\n",
    "    number_list = s_line.split()\n",
    "    nele_str = number_list[0]\n",
    "    nele = int(nele_str)\n",
    "    eles = np.zeros((nele, 3), dtype=np.int64)\n",
    "    for h in range(nele):\n",
    "        s_line = f_ele.readline()\n",
    "        number_list = s_line.split()\n",
    "        i_str = number_list[1]\n",
    "        j_str = number_list[2]\n",
    "        k_str = number_list[3]\n",
    "        i = int(i_str)\n",
    "        j = int(j_str)\n",
    "        k = k_str\n",
    "        eles[h][0] = i\n",
    "        eles[h][1] = j\n",
    "        eles[h][2] = k"
   ]
  },
  {
   "cell_type": "code",
   "execution_count": 48,
   "metadata": {},
   "outputs": [],
   "source": [
    "# 欠陥nodeの調整\n",
    "nnode -= len(defect_node)\n",
    "# 欠陥nodeを取り除いたposition作成\n",
    "position = np.zeros((nnode, 2), dtype=np.float)\n",
    "count = 0\n",
    "for h in range(len(position_with_defect)-1):\n",
    "    if h in defect_node:\n",
    "        count = count + 1\n",
    "    else:\n",
    "        position[h-count] = position_with_defect[h]\n",
    "    \n",
    "# elesの番号を欠陥の分下げていく\n",
    "for h in range(len(defect_node)):\n",
    "    target_defect = defect_node[len(defect_node)-1-h]#0始めで何番目か、大きいものから処理を始める\n",
    "    target_node_number = target_defect + 1#elesでは1始まりの番号が記録\n",
    "    for hh in range(len(eles)):\n",
    "        for hhh in range(3):\n",
    "            if eles[hh][hhh] > target_node_number:\n",
    "                eles[hh][hhh] -= 1"
   ]
  },
  {
   "cell_type": "code",
   "execution_count": 49,
   "metadata": {},
   "outputs": [],
   "source": [
    "# 全体剛性行列と全体質量行列・全体集中質量行列の宣言\n",
    "kt = np.zeros((2*nnode, 2*nnode))\n",
    "mt = np.zeros((2*nnode, 2*nnode))\n",
    "imt = np.zeros((2*nnode, 2*nnode))"
   ]
  },
  {
   "cell_type": "code",
   "execution_count": 50,
   "metadata": {},
   "outputs": [],
   "source": [
    "# 剛性行列と質量行列計算の定義\n",
    "def calc_ke(ele, position, kt):\n",
    "    i = ele[0]\n",
    "    j = ele[1]\n",
    "    k = ele[2]\n",
    "    xi = position[i-1][0]\n",
    "    yi = position[i-1][1]\n",
    "    xj = position[j-1][0]\n",
    "    yj = position[j-1][1]\n",
    "    xk = position[k-1][0]\n",
    "    yk = position[k-1][1]\n",
    "    # ひずみ-変位関係\n",
    "    b = np.zeros((3, 6))\n",
    "    b[0][0] = yj-yk\n",
    "    b[0][2] = yk-yi\n",
    "    b[0][4] = yi-yj\n",
    "    b[1][1] = xk-xj\n",
    "    b[1][3] = xi-xk\n",
    "    b[1][5] = xj-xi\n",
    "    b[2][0] = xk-xj\n",
    "    b[2][1] = yj-yk\n",
    "    b[2][2] = xi-xk\n",
    "    b[2][3] = yk-yi\n",
    "    b[2][4] = xj-xi\n",
    "    b[2][5] = yi-yj\n",
    "    b=b/2/ele_size\n",
    "    # 応力-ひずみ関係\n",
    "    d = np.zeros((3, 3))\n",
    "    d[0][0] = 1 - poi\n",
    "    d[0][1] = poi\n",
    "    d[1][0] = poi\n",
    "    d[1][1] = 1 - poi\n",
    "    d[2][2] = (1-2*poi)/2\n",
    "    d = d*e/(1+poi)/(1-2*poi)\n",
    "    ke = th*ele_size*np.dot(np.dot(b.T, d), b)\n",
    "    # 全体剛性行列への組み込み\n",
    "    kt[2*i-1-1][2*i-1-1] += ke[1-1][1-1]\n",
    "    kt[2*i-1-1][2*i-1] += ke[1-1][2-1]\n",
    "    kt[2*i-1][2*i-1-1] += ke[2-1][1-1]\n",
    "    kt[2*i-1][2*i-1] += ke[2-1][2-1]\n",
    "    kt[2*i-1-1][2*j-1-1] += ke[1-1][3-1]\n",
    "    kt[2*i-1-1][2*j-1] += ke[1-1][4-1]\n",
    "    kt[2*i-1][2*j-1-1] += ke[2-1][3-1]\n",
    "    kt[2*i-1][2*j-1] += ke[2-1][4-1]\n",
    "    kt[2*i-1-1][2*k-1-1] += ke[1-1][5-1]\n",
    "    kt[2*i-1-1][2*k-1] += ke[1-1][6-1]\n",
    "    kt[2*i-1][2*k-1-1] += ke[2-1][5-1]\n",
    "    kt[2*i-1][2*k-1] += ke[2-1][6-1]\n",
    "\n",
    "    kt[2*j-1-1][2*i-1-1] += ke[3-1][1-1]\n",
    "    kt[2*j-1-1][2*i-1] += ke[3-1][2-1]\n",
    "    kt[2*j-1][2*i-1-1] += ke[4-1][1-1]\n",
    "    kt[2*j-1][2*i-1] += ke[4-1][2-1]\n",
    "    kt[2*j-1-1][2*j-1-1] += ke[3-1][3-1]\n",
    "    kt[2*j-1-1][2*j-1] += ke[3-1][4-1]\n",
    "    kt[2*j-1][2*j-1-1] += ke[4-1][3-1]\n",
    "    kt[2*j-1][2*j-1] += ke[4-1][4-1]\n",
    "    kt[2*j-1-1][2*k-1-1] += ke[3-1][5-1]\n",
    "    kt[2*j-1-1][2*k-1] += ke[3-1][6-1]\n",
    "    kt[2*j-1][2*k-1-1] += ke[4-1][5-1]\n",
    "    kt[2*j-1][2*k-1] += ke[4-1][6-1]\n",
    "\n",
    "    kt[2*k-1-1][2*i-1-1] += ke[5-1][1-1]\n",
    "    kt[2*k-1-1][2*i-1] += ke[5-1][2-1]\n",
    "    kt[2*k-1][2*i-1-1] += ke[6-1][1-1]\n",
    "    kt[2*k-1][2*i-1] += ke[6-1][2-1]\n",
    "    kt[2*k-1-1][2*j-1-1] += ke[5-1][3-1]\n",
    "    kt[2*k-1-1][2*j-1] += ke[5-1][4-1]\n",
    "    kt[2*k-1][2*j-1-1] += ke[6-1][3-1]\n",
    "    kt[2*k-1][2*j-1] += ke[6-1][4-1]\n",
    "    kt[2*k-1-1][2*k-1-1] += ke[5-1][5-1]\n",
    "    kt[2*k-1-1][2*k-1] += ke[5-1][6-1]\n",
    "    kt[2*k-1][2*k-1-1] += ke[6-1][5-1]\n",
    "    kt[2*k-1][2*k-1] += ke[6-1][6-1]\n",
    "\n",
    "    return kt\n",
    "\n",
    "def calc_me(ele, mt):\n",
    "    i = ele[0]\n",
    "    j = ele[1]\n",
    "    k = ele[2]\n",
    "    me = np.zeros((6, 6))\n",
    "    me[0][0] = 1/6\n",
    "    me[0][2] = 1/12\n",
    "    me[0][4] = 1/12\n",
    "    me[1][1] = 1/6\n",
    "    me[1][3] = 1/12\n",
    "    me[1][5] = 1/12\n",
    "    me[2][0] = 1/12\n",
    "    me[2][2] = 1/6\n",
    "    me[2][4] = 1/12\n",
    "    me[3][1] = 1/12\n",
    "    me[3][3] = 1/6\n",
    "    me[3][5] = 1/12\n",
    "    me[4][0] = 1/12\n",
    "    me[4][2] = 1/12\n",
    "    me[4][4] = 1/6\n",
    "    me[5][1] = 1/12\n",
    "    me[5][3] = 1/12\n",
    "    me[5][5] = 1/6\n",
    "    me = ele_size*th*row*me\n",
    "    # 全体質量行列への組み込み\n",
    "    mt[2*i-1-1][2*i-1-1] += me[1-1][1-1]\n",
    "    mt[2*i-1-1][2*i-1] += me[1-1][2-1]\n",
    "    mt[2*i-1][2*i-1-1] += me[2-1][1-1]\n",
    "    mt[2*i-1][2*i-1] += me[2-1][2-1]\n",
    "    mt[2*i-1-1][2*j-1-1] += me[1-1][3-1]\n",
    "    mt[2*i-1-1][2*j-1] += me[1-1][4-1]\n",
    "    mt[2*i-1][2*j-1-1] += me[2-1][3-1]\n",
    "    mt[2*i-1][2*j-1] += me[2-1][4-1]\n",
    "    mt[2*i-1-1][2*k-1-1] += me[1-1][5-1]\n",
    "    mt[2*i-1-1][2*k-1] += me[1-1][6-1]\n",
    "    mt[2*i-1][2*k-1-1] += me[2-1][5-1]\n",
    "    mt[2*i-1][2*k-1] += me[2-1][6-1]\n",
    "\n",
    "    mt[2*j-1-1][2*i-1-1] += me[3-1][1-1]\n",
    "    mt[2*j-1-1][2*i-1] += me[3-1][2-1]\n",
    "    mt[2*j-1][2*i-1-1] += me[4-1][1-1]\n",
    "    mt[2*j-1][2*i-1] += me[4-1][2-1]\n",
    "    mt[2*j-1-1][2*j-1-1] += me[3-1][3-1]\n",
    "    mt[2*j-1-1][2*j-1] += me[3-1][4-1]\n",
    "    mt[2*j-1][2*j-1-1] += me[4-1][3-1]\n",
    "    mt[2*j-1][2*j-1] += me[4-1][4-1]\n",
    "    mt[2*j-1-1][2*k-1-1] += me[3-1][5-1]\n",
    "    mt[2*j-1-1][2*k-1] += me[3-1][6-1]\n",
    "    mt[2*j-1][2*k-1-1] += me[4-1][5-1]\n",
    "    mt[2*j-1][2*k-1] += me[4-1][6-1]\n",
    "\n",
    "    mt[2*k-1-1][2*i-1-1] += me[5-1][1-1]\n",
    "    mt[2*k-1-1][2*i-1] += me[5-1][2-1]\n",
    "    mt[2*k-1][2*i-1-1] += me[6-1][1-1]\n",
    "    mt[2*k-1][2*i-1] += me[6-1][2-1]\n",
    "    mt[2*k-1-1][2*j-1-1] += me[5-1][3-1]\n",
    "    mt[2*k-1-1][2*j-1] += me[5-1][4-1]\n",
    "    mt[2*k-1][2*j-1-1] += me[6-1][3-1]\n",
    "    mt[2*k-1][2*j-1] += me[6-1][4-1]\n",
    "    mt[2*k-1-1][2*k-1-1] += me[5-1][5-1]\n",
    "    mt[2*k-1-1][2*k-1] += me[5-1][6-1]\n",
    "    mt[2*k-1][2*k-1-1] += me[6-1][5-1]\n",
    "    mt[2*k-1][2*k-1] += me[6-1][6-1]\n",
    "\n",
    "    return mt\n",
    "\n",
    "def calc_ime(ele, imt):\n",
    "    i = ele[0]\n",
    "    j = ele[1]\n",
    "    k = ele[2]\n",
    "    ime = np.zeros((6, 6))\n",
    "    for h in range(6):\n",
    "        ime[h][h] = 1/3\n",
    "    ime = ele_size*th*row*ime\n",
    "    imt[2*i-1-1][2*i-1-1] += ime[1-1][1-1]\n",
    "    imt[2*i-1][2*i-1] += ime[2-1][2-1]\n",
    "    imt[2*j-1-1][2*j-1-1] += ime[3-1][3-1]\n",
    "    imt[2*j-1][2*j-1] += ime[4-1][4-1]\n",
    "    imt[2*k-1-1][2*k-1-1] += ime[5-1][5-1]\n",
    "    imt[2*k-1][2*k-1] += ime[6-1][6-1]\n",
    "    return imt"
   ]
  },
  {
   "cell_type": "code",
   "execution_count": 51,
   "metadata": {},
   "outputs": [],
   "source": [
    "# 合成行列と質量行列の組み込み繰り返し\n",
    "for h in range(nele):\n",
    "    ele = eles[h]\n",
    "    kt = calc_ke(ele, position, kt)\n",
    "    mt = calc_me(ele, mt)\n",
    "    imt = calc_ime(ele, imt)"
   ]
  },
  {
   "cell_type": "code",
   "execution_count": 52,
   "metadata": {},
   "outputs": [],
   "source": [
    "# 外力生成(線形の増減)(左辺中心3点に荷重がかかるとする)(1辺51点)\n",
    "ft = np.zeros((total_step, 2*(nnode), 1))\n",
    "# 荷重点の取得\n",
    "load_point1 = 0\n",
    "load_point2 = 0\n",
    "load_point3 = 0\n",
    "for h in range(nnode):\n",
    "    if position[h][0] == 0:\n",
    "        if position[h][1] == 0.48:\n",
    "            load_point1 = h\n",
    "        if position[h][1] == 0.5:\n",
    "            load_point2 = h\n",
    "        if position[h][1] == 0.52:\n",
    "            load_point3 = h\n",
    "# 増える時\n",
    "for i in range(load_step):\n",
    "    ft[i+1][load_point1*2][0] = ft[i][load_point1*2][0] + load_diff\n",
    "    ft[i+1][load_point2*2][0] = ft[i][load_point2*2][0] + load_diff\n",
    "    ft[i+1][load_point3*2][0] = ft[i][load_point3*2][0] + load_diff\n",
    "# 減る時\n",
    "for i in range(load_step):\n",
    "    ft[load_step+i+1][load_point1*2][0] = ft[load_step+i][load_point1*2][0] - load_diff\n",
    "    ft[load_step+i+1][load_point2*2][0] = ft[load_step+i][load_point2*2][0] - load_diff\n",
    "    ft[load_step+i+1][load_point3*2][0] = ft[load_step+i][load_point3*2][0] - load_diff"
   ]
  },
  {
   "cell_type": "code",
   "execution_count": 53,
   "metadata": {},
   "outputs": [],
   "source": [
    "# タイムステップ毎の変位設定\n",
    "u = np.zeros((total_step+1, 2*nnode, 1))"
   ]
  },
  {
   "cell_type": "code",
   "execution_count": 54,
   "metadata": {},
   "outputs": [],
   "source": [
    "# 各タイムステップの計算\n",
    "ct = imt*alpha\n",
    "left_matrix = imt+delta_t*ct/2\n",
    "inv_left_matrix = np.linalg.inv(left_matrix)\n",
    "for h in range(total_step-1):\n",
    "    step = h+1\n",
    "    right_matrix = pow_delta_t*ft[step] - pow_delta_t*np.dot(kt, u[step]) + np.dot(imt, (2*u[step]-u[step-1])) + delta_t*np.dot(ct, u[step-1])/2\n",
    "    u[step+1] = np.dot(inv_left_matrix, right_matrix)"
   ]
  },
  {
   "cell_type": "code",
   "execution_count": 55,
   "metadata": {},
   "outputs": [],
   "source": [
    "#観測点\n",
    "check_point1 = 0\n",
    "check_point2 = 0\n",
    "check_point3 = 0\n",
    "for h in range(nnode):\n",
    "    if position[h][0] == 0:\n",
    "        if position[h][1] == 0.26:\n",
    "            check_point1 = h\n",
    "        if position[h][1] == 0.5:\n",
    "            check_point2 = h\n",
    "        if position[h][1] == 0.74:\n",
    "            check_point3 = h"
   ]
  },
  {
   "cell_type": "code",
   "execution_count": 56,
   "metadata": {},
   "outputs": [
    {
     "data": {
      "image/png": "[encoded data removed]",
      "text/plain": [
       "<Figure size 432x288 with 1 Axes>"
      ]
     },
     "metadata": {
      "needs_background": "light"
     },
     "output_type": "display_data"
    }
   ],
   "source": [
    "# 今だけグラフ表示\n",
    "output1 = []\n",
    "for h in range(total_step+1):\n",
    "    output1.append(u[h][check_point1*2][0])\n",
    "from matplotlib import pyplot as plt\n",
    "time_list = []\n",
    "for h in range(total_step+1):\n",
    "    time_list.append(h*delta_t)\n",
    "plt.plot(time_list, output1)\n",
    "plt.show()"
   ]
  },
  {
   "cell_type": "code",
   "execution_count": 57,
   "metadata": {},
   "outputs": [
    {
     "data": {
      "image/png": "[encoded data removed]",
      "text/plain": [
       "<Figure size 432x288 with 1 Axes>"
      ]
     },
     "metadata": {
      "needs_background": "light"
     },
     "output_type": "display_data"
    }
   ],
   "source": [
    "# 今だけグラフ表示\n",
    "output2 = []\n",
    "for h in range(total_step+1):\n",
    "    output2.append(u[h][check_point2*2][0])\n",
    "from matplotlib import pyplot as plt\n",
    "time_list = []\n",
    "for h in range(total_step+1):\n",
    "    time_list.append(h*delta_t)\n",
    "plt.plot(time_list, output2)\n",
    "plt.show()"
   ]
  },
  {
   "cell_type": "code",
   "execution_count": 60,
   "metadata": {},
   "outputs": [
    {
     "data": {
      "image/png": "[encoded data removed]",
      "text/plain": [
       "<Figure size 432x288 with 1 Axes>"
      ]
     },
     "metadata": {
      "needs_background": "light"
     },
     "output_type": "display_data"
    }
   ],
   "source": [
    "# 今だけグラフ表示\n",
    "output3 = []\n",
    "for h in range(total_step+1):\n",
    "    if h%5 == 0:\n",
    "        output3.append(u[h][check_point3*2][0])\n",
    "from matplotlib import pyplot as plt\n",
    "time_list = []\n",
    "for h in range(total_step+1):\n",
    "    if h%5 == 0:\n",
    "        time_list.append(h*delta_t)\n",
    "plt.plot(time_list, output3)\n",
    "plt.show()"
   ]
  },
  {
   "cell_type": "code",
   "execution_count": null,
   "metadata": {},
   "outputs": [],
   "source": []
  }
 ],
 "metadata": {
  "kernelspec": {
   "display_name": "Python 3",
   "language": "python",
   "name": "python3"
  },
  "language_info": {
   "codemirror_mode": {
    "name": "ipython",
    "version": 3
   },
   "file_extension": ".py",
   "mimetype": "text/x-python",
   "name": "python",
   "nbconvert_exporter": "python",
   "pygments_lexer": "ipython3",
   "version": "3.7.7"
  }
 },
 "nbformat": 4,
 "nbformat_minor": 4
}
